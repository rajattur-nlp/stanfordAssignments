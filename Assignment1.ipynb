{
  "nbformat": 4,
  "nbformat_minor": 0,
  "metadata": {
    "colab": {
      "provenance": [],
      "authorship_tag": "ABX9TyMNZissBh4bgfSZIi2OB7mF",
      "include_colab_link": true
    },
    "kernelspec": {
      "name": "python3",
      "display_name": "Python 3"
    },
    "language_info": {
      "name": "python"
    }
  },
  "cells": [
    {
      "cell_type": "markdown",
      "metadata": {
        "id": "view-in-github",
        "colab_type": "text"
      },
      "source": [
        "<a href=\"https://colab.research.google.com/github/rajattur-nlp/stanfordAssignments/blob/main/Assignment1.ipynb\" target=\"_parent\"><img src=\"https://colab.research.google.com/assets/colab-badge.svg\" alt=\"Open In Colab\"/></a>"
      ]
    },
    {
      "cell_type": "code",
      "source": [
        "import sys\n",
        "import os\n",
        "import numpy as np\n",
        "import matplotlib\n",
        "import matplotlib.pyplot as plt\n",
        "from sklearn.decomposition import TruncatedSVD\n",
        "from sklearn.decomposition import PCA"
      ],
      "metadata": {
        "id": "MVEU53hgX_fm"
      },
      "execution_count": 1,
      "outputs": []
    },
    {
      "cell_type": "code",
      "execution_count": 2,
      "metadata": {
        "colab": {
          "base_uri": "https://localhost:8080/"
        },
        "id": "hW365hNGRJjN",
        "outputId": "de5eda13-4881-47c5-a469-b62cad59772a"
      },
      "outputs": [
        {
          "output_type": "stream",
          "name": "stderr",
          "text": [
            "[nltk_data] Downloading package reuters to /root/nltk_data...\n"
          ]
        }
      ],
      "source": [
        "#!/usr/bin/env python\n",
        "\n",
        "import os\n",
        "import nltk\n",
        "\n",
        "if os.name == 'nt':\n",
        "    import ssl\n",
        "    try:\n",
        "        _create_unverified_https_context = ssl._create_unverified_context\n",
        "    except AttributeError:\n",
        "        pass\n",
        "    else:\n",
        "        ssl._create_default_https_context = _create_unverified_https_context\n",
        "\n",
        "nltk.download('reuters')\n",
        "from nltk.corpus import reuters\n",
        "\n",
        "START_TOKEN = '<START>'\n",
        "END_TOKEN = '<END>'\n",
        "\n",
        "def read_corpus(category=\"crude\"):\n",
        "    \"\"\" Read files from the specified Reuter's category.\n",
        "        Params:\n",
        "            category (string): category name\n",
        "        Return:\n",
        "            list of lists, with words from each of the processed files\n",
        "    \"\"\"\n",
        "    files = reuters.fileids(category)\n",
        "    return [[START_TOKEN] + [w.lower() for w in list(reuters.words(f))] + [END_TOKEN] for f in files]"
      ]
    },
    {
      "cell_type": "code",
      "source": [
        "DATA = read_corpus()"
      ],
      "metadata": {
        "id": "KD_AX-bgSGGK"
      },
      "execution_count": 3,
      "outputs": []
    },
    {
      "cell_type": "code",
      "source": [
        "def distinct_words(corpus):\n",
        "    \"\"\" Determine a list of distinct words for the corpus.\n",
        "        Params:\n",
        "            corpus (list of list of strings): corpus of documents\n",
        "        Return:\n",
        "            corpus_words (list of strings): list of distinct words across the corpus, sorted (using python 'sorted' function)\n",
        "            num_corpus_words (integer): number of distinct words across the corpus\n",
        "    \"\"\"\n",
        "    corpus_words = []\n",
        "    num_corpus_words = 0\n",
        "\n",
        "    # ### START CODE HERE ###\n",
        "    dist_words = set()\n",
        "\n",
        "    for document in corpus:\n",
        "      for word in document:\n",
        "        dist_words.add(word)\n",
        "\n",
        "    corpus_words = sorted(dist_words)\n",
        "    num_corpus_words = len(corpus_words)\n",
        "\n",
        "    # ### END CODE HERE ###\n",
        "    return corpus_words, num_corpus_words"
      ],
      "metadata": {
        "id": "KR9zYbgmTzVZ"
      },
      "execution_count": 4,
      "outputs": []
    },
    {
      "cell_type": "code",
      "source": [
        "def compute_co_occurrence_matrix(corpus, window_size=4):\n",
        "    \"\"\" Compute co-occurrence matrix for the given corpus and window_size (default of 4).\n",
        "\n",
        "        Note: Each word in a document should be at the center of a window. Words near edges will have a smaller\n",
        "              number of co-occurring words.\n",
        "\n",
        "              For example, if we take the document \"START All that glitters is not gold END\" with window size of 4,\n",
        "              \"All\" will co-occur with \"START\", \"that\", \"glitters\", \"is\", and \"not\".\n",
        "\n",
        "        Params:\n",
        "            corpus (list of list of strings): corpus of documents\n",
        "            window_size (int): size of context window\n",
        "        Return:\n",
        "            M (numpy matrix of shape (number of unique words in the corpus , number of unique words in the corpus)):\n",
        "                Co-occurrence matrix of word counts.\n",
        "                The ordering of the words in the rows/columns should be the same as the ordering of the words given by the distinct_words function.\n",
        "            word2Ind (dict): dictionary that maps word to index (i.e. row/column number) for matrix M.\n",
        "    \"\"\"\n",
        "    words, num_words = distinct_words(corpus)\n",
        "    M = None\n",
        "    word2Ind = {}\n",
        "\n",
        "    # ### START CODE HERE ###\n",
        "\n",
        "    word2Ind = {word: i for i, word in enumerate(words)}\n",
        "\n",
        "    M = np.zeros((num_words, num_words))\n",
        "\n",
        "    # Step 3: Update co-occurrence matrix for each document\n",
        "    for document in corpus:\n",
        "        # print(document)\n",
        "        for index, word in enumerate(document):\n",
        "            left_index = max(index - window_size, 0)\n",
        "            right_index = min(index + window_size + 1, len(document))\n",
        "\n",
        "            # Get the context window surrounding the current word\n",
        "            context_window = document[left_index:index] + document[index + 1:right_index]\n",
        "\n",
        "            # Update co-occurrence counts\n",
        "            word_index = word2Ind[word]\n",
        "            for context_word in context_window:\n",
        "                context_word_index = word2Ind[context_word]\n",
        "                M[word_index, context_word_index] += 1\n",
        "\n",
        "    # ### END CODE HERE ###\n",
        "\n",
        "    return M, word2Ind"
      ],
      "metadata": {
        "id": "6gatInAwW3i0"
      },
      "execution_count": 5,
      "outputs": []
    },
    {
      "cell_type": "code",
      "source": [
        "M, word2Ind = compute_co_occurrence_matrix(DATA)\n",
        "# np.set_printoptions(threshold=sys.maxsize)"
      ],
      "metadata": {
        "id": "Hw680DsYYZMG"
      },
      "execution_count": 6,
      "outputs": []
    },
    {
      "cell_type": "code",
      "source": [
        "def reduce_to_k_dim(M, k=2):\n",
        "    \"\"\" Reduce a co-occurrence count matrix of dimensionality (num_corpus_words, num_corpus_words)\n",
        "        to a matrix of dimensionality (num_corpus_words, k) using the following SVD function from Scikit-Learn:\n",
        "            - http://scikit-learn.org/stable/modules/generated/sklearn.decomposition.TruncatedSVD.html\n",
        "\n",
        "        Params:\n",
        "            M (numpy matrix of shape (number of unique words in the corpus , number of unique words in the corpus)): co-occurrence matrix of word counts\n",
        "            k (int): embedding size of each word after dimension reduction\n",
        "        Return:\n",
        "            M_reduced (numpy matrix of shape (number of unique words in the corpus, k)): matrix of k-dimensioal word embeddings.\n",
        "                    In terms of the SVD from math class, this actually returns U * S\n",
        "    \"\"\"\n",
        "    np.random.seed(4355)\n",
        "    n_iter = 10     # Use this parameter in your call to `TruncatedSVD`\n",
        "    M_reduced = None\n",
        "    print(\"Running Truncated SVD over %i words...\" % (M.shape[0]))\n",
        "\n",
        "    # ### START CODE HERE ###\n",
        "    svd = TruncatedSVD(n_components=k, n_iter=n_iter)\n",
        "\n",
        "    M_reduced = svd.fit_transform(M)\n",
        "    # ### END CODE HERE ###\n",
        "\n",
        "    print(\"Done.\")\n",
        "    return M_reduced"
      ],
      "metadata": {
        "id": "GxKtuB8gyavw"
      },
      "execution_count": 8,
      "outputs": []
    },
    {
      "cell_type": "code",
      "source": [
        "M_reduced = reduce_to_k_dim(M)"
      ],
      "metadata": {
        "colab": {
          "base_uri": "https://localhost:8080/"
        },
        "id": "xb0C6bRA0rJB",
        "outputId": "16b23ead-3b68-4d4b-d0db-5fcc7d5c9881"
      },
      "execution_count": 19,
      "outputs": [
        {
          "output_type": "stream",
          "name": "stdout",
          "text": [
            "Running Truncated SVD over 8185 words...\n",
            "Done.\n"
          ]
        }
      ]
    },
    {
      "cell_type": "code",
      "source": [
        "def plot_embeddings(M_reduced, word2Ind, words, title):\n",
        "\n",
        "    for word in words:\n",
        "        idx = word2Ind[word]\n",
        "        x = M_reduced[idx, 0]\n",
        "        y = M_reduced[idx, 1]\n",
        "        plt.scatter(x, y, marker='x', color='red')\n",
        "        plt.text(x, y, word, fontsize=9)\n",
        "    plt.savefig(title)"
      ],
      "metadata": {
        "id": "OLa8AQ4UFAGo"
      },
      "execution_count": 23,
      "outputs": []
    },
    {
      "cell_type": "code",
      "source": [
        "\n",
        "matplotlib.use('agg')\n",
        "plt.rcParams['figure.figsize'] = [10, 5]\n",
        "\n",
        "assert sys.version_info[0] == 3\n",
        "assert sys.version_info[1] >= 5\n",
        "\n",
        "\n",
        "    #Read in the corpus\n",
        "reuters_corpus = read_corpus()\n",
        "\n",
        "M_co_occurrence, word2Ind_co_occurrence = compute_co_occurrence_matrix(reuters_corpus)\n",
        "M_reduced_co_occurrence = reduce_to_k_dim(M_co_occurrence, k=2)\n",
        "# Rescale (normalize) the rows to make them each of unit-length\n",
        "M_lengths = np.linalg.norm(M_reduced_co_occurrence, axis=1)\n",
        "M_normalized = M_reduced_co_occurrence / M_lengths[:, np.newaxis] # broadcasting\n",
        "\n",
        "words = ['japan','barrels', 'bpd', 'ecuador', 'energy', 'industry', 'kuwait', 'oil', 'output', 'petroleum', 'venezuela']\n",
        "plot_embeddings(M_normalized, word2Ind_co_occurrence, words, 'co_occurrence_embeddings_(soln).png')"
      ],
      "metadata": {
        "colab": {
          "base_uri": "https://localhost:8080/"
        },
        "id": "r457mNT208AP",
        "outputId": "fdcd9bb8-5893-4025-ce60-2d0c17a2bfc0"
      },
      "execution_count": 27,
      "outputs": [
        {
          "output_type": "stream",
          "name": "stdout",
          "text": [
            "Running Truncated SVD over 8185 words...\n",
            "Done.\n"
          ]
        }
      ]
    },
    {
      "cell_type": "code",
      "source": [],
      "metadata": {
        "id": "Y29uv7C9FxIc"
      },
      "execution_count": null,
      "outputs": []
    }
  ]
}